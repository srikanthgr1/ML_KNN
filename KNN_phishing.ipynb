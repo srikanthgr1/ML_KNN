{
 "cells": [
  {
   "cell_type": "markdown",
   "metadata": {},
   "source": [
    "## Phishing Site Detection\n",
    "\n",
    "In the Pre processing of the Data the attributes are coded into following format for application of KNN Classifier \n",
    "\n",
    " \tSFH's type is nominal, range is ('1', '-1', '0')\n",
    " \tpopUpWidnow's type is nominal, range is ('-1', '0', '1')\n",
    " \tSSLfinal_State's type is nominal, range is ('1', '-1', '0')\n",
    " \tRequest_URL's type is nominal, range is ('-1', '0', '1')\n",
    " \tURL_of_Anchor's type is nominal, range is ('-1', '0', '1')\n",
    " \tweb_traffic's type is nominal, range is ('1', '0', '-1')\n",
    " \tURL_Length's type is nominal, range is ('1', '-1', '0')\n",
    " \tage_of_domain's type is nominal, range is ('1', '-1')\n",
    " \thaving_IP_Address's type is nominal, range is ('0', '1')\n",
    " \tResult's type is nominal, range is ('0', '1', '-1'))\n",
    "    \n",
    "    The  data coding is as follows:\n",
    "    \"1\"  - Legitimate Website\n",
    "    \"0\"  - Suspisious\n",
    "    \"-1\" - Malicious Website"
   ]
  },
  {
   "cell_type": "code",
   "execution_count": null,
   "metadata": {},
   "outputs": [],
   "source": [
    "import numpy as np\n",
    "from sklearn.neighbors import KNeighborsClassifier\n",
    "import pandas as pd\n",
    "from scipy.io.arff import loadarff\n",
    "from sklearn.model_selection import cross_val_score"
   ]
  },
  {
   "cell_type": "code",
   "execution_count": null,
   "metadata": {},
   "outputs": [],
   "source": [
    "# Importing Data from arff File using scipy arff module\n",
    "phishing_data_raw = loadarff(\"C:/Users/M1033493/Documents/upX/ML/ML_KNN_and_Naive_Bayes/PhishingData.arff\")\n",
    "phishing_data_raw"
   ]
  },
  {
   "cell_type": "code",
   "execution_count": null,
   "metadata": {},
   "outputs": [],
   "source": [
    "# Selection of the Data and converting data into numpy format for flexibility in cleaning\n",
    "phising_data_array = np.array(phishing_data_raw[0])\n",
    "phising_data_array"
   ]
  },
  {
   "cell_type": "code",
   "execution_count": null,
   "metadata": {},
   "outputs": [],
   "source": [
    "# Converting the numpy array into Pandas data frame  and casting the coloumns to numeric type\n",
    "phising_data_frame = pd.DataFrame(phising_data_array).apply(pd.to_numeric)\n",
    "phising_data_frame"
   ]
  },
  {
   "cell_type": "code",
   "execution_count": null,
   "metadata": {},
   "outputs": [],
   "source": [
    "col_names = list(phising_data_frame)# Geeting Column names of the pandas data frame\n",
    "print(\"Coloumn_names:\" + \", \".join(col_names))\n",
    "# The scikit learn package takes data in form of labels and predictors\n",
    "# Extracting Result coloum to pass as target coloum\n",
    "labels = phising_data_frame[\"Result\"].values\n",
    "print(labels)"
   ]
  },
  {
   "cell_type": "code",
   "execution_count": null,
   "metadata": {},
   "outputs": [],
   "source": [
    "predictor_cols = col_names[0:len(col_names)-2]# selecting the predictor column names\n",
    "print(\"Predictor_Coloumns:\" + \", \".join(predictor_cols))\n",
    "#extracting Predictor points \n",
    "predictors = phising_data_frame[predictor_cols].values\n",
    "predictors"
   ]
  },
  {
   "cell_type": "raw",
   "metadata": {
    "collapsed": true
   },
   "source": [
    "# THIS IS THE CODE IN CLASS\n",
    "\n",
    "# Defining The parameters in KNN Classifier\n",
    "for k in range(5,20,1):\n",
    "    clf_knn = KNeighborsClassifier(\n",
    "    n_neighbors=k,\n",
    "    weights='distance'\n",
    "    )\n",
    "    clf_knn = clf_knn.fit(predictors,labels)\n",
    "    score_knn = cross_val_score(clf_knn, predictors, labels, cv=5)\n",
    "    pass\n",
    "\n",
    "    \n"
   ]
  },
  {
   "cell_type": "code",
   "execution_count": null,
   "metadata": {},
   "outputs": [],
   "source": [
    "# Code by SrikGR\n",
    "\n",
    "myList = list(range(1,50))\n",
    "\n",
    "# subsetting just the odd ones\n",
    "neighbors = filter(lambda x: x % 2 != 0, myList)\n",
    "\n",
    "# empty list that will hold cv scores\n",
    "cv_scores = []\n",
    "\n",
    "# empty list to store the time values\n",
    "time_val=[]\n",
    "\n",
    "# perform 10-fold cross validation\n",
    "s0 = time()\n",
    "for k in neighbors:\n",
    "    t0 = time()\n",
    "    clf_knn = KNeighborsClassifier(n_neighbors=k,weights='distance')\n",
    "    clf_knn = clf_knn.fit(predictors,labels)\n",
    "    scores = cross_val_score(clf_knn, predictors, labels, cv=5, scoring='accuracy')\n",
    "    cv_scores.append(scores.mean())\n",
    "    t1 = rount(time()-t0,3)\n",
    "    time_val.append(t1)\n",
    "\n",
    "s1 = rount(time - s0, 3)\n",
    "print(\"Individual Scores are\", cv_scores)\n",
    "print(\"Individual Times are :\", time_val)"
   ]
  },
  {
   "cell_type": "code",
   "execution_count": null,
   "metadata": {},
   "outputs": [],
   "source": [
    "# changing to misclassification error\n",
    "MSE = [1 - x for x in cv_scores]\n",
    "\n",
    "# determining best k\n",
    "optimal_k = neighbors[MSE.index(min(MSE))]\n",
    "print \"The optimal number of neighbors is %d\" % optimal_k\n",
    "\n",
    "# plot misclassification error vs k\n",
    "plt.plot(neighbors, MSE)\n",
    "plt.xlabel('Number of Neighbors K')\n",
    "plt.ylabel('Misclassification Error')\n",
    "plt.show()"
   ]
  },
  {
   "cell_type": "code",
   "execution_count": null,
   "metadata": {},
   "outputs": [],
   "source": [
    "# Computing the Cross validation score with 5-fold cross validation\n",
    "score_knn = cross_val_score(clf_knn, predictors, labels, cv=5)\n",
    "print(\"Cross Validation score : \" + str(score_knn))\n",
    "print(\"Cross Validation Mean score : \" + str(score_knn.mean()))"
   ]
  }
 ],
 "metadata": {
  "kernelspec": {
   "display_name": "Python 3",
   "language": "python",
   "name": "python3"
  },
  "language_info": {
   "codemirror_mode": {
    "name": "ipython",
    "version": 3
   },
   "file_extension": ".py",
   "mimetype": "text/x-python",
   "name": "python",
   "nbconvert_exporter": "python",
   "pygments_lexer": "ipython3",
   "version": "3.6.4"
  }
 },
 "nbformat": 4,
 "nbformat_minor": 2
}
